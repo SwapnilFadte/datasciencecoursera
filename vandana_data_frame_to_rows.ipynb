{
  "nbformat": 4,
  "nbformat_minor": 0,
  "metadata": {
    "colab": {
      "name": "vandana_data_frame_to_rows.ipynb",
      "provenance": [],
      "collapsed_sections": [],
      "authorship_tag": "ABX9TyOUX8Vq0FtjQwqahlXPw51J",
      "include_colab_link": true
    },
    "kernelspec": {
      "name": "python3",
      "display_name": "Python 3"
    },
    "language_info": {
      "name": "python"
    }
  },
  "cells": [
    {
      "cell_type": "markdown",
      "metadata": {
        "id": "view-in-github",
        "colab_type": "text"
      },
      "source": [
        "<a href=\"https://colab.research.google.com/github/SwapnilFadte/datasciencecoursera/blob/master/vandana_data_frame_to_rows.ipynb\" target=\"_parent\"><img src=\"https://colab.research.google.com/assets/colab-badge.svg\" alt=\"Open In Colab\"/></a>"
      ]
    },
    {
      "cell_type": "code",
      "metadata": {
        "id": "nq07Zt-d4HOy",
        "colab": {
          "base_uri": "https://localhost:8080/"
        },
        "outputId": "c9c5393e-a799-4e45-d8af-044705807071"
      },
      "source": [
        "# Code to extract specific row one by one \n",
        "# for specific regular expresion  match in colum/cell.\n",
        "# 5/09/2021\n",
        "\n",
        "import pandas as pd\n",
        "\n",
        "#setting parameters\n",
        "#setting name of input file\n",
        "input_file=\"data_frame_input - Sheet1.csv\"\n",
        "#Setting value for Sub string to match in cell/colum\n",
        "Sub_string_to_match = \"Goa\"\n",
        "#Column header name\n",
        "Column_name =\"adrress\"\n",
        "#cloum index\n",
        "colum_location=1\n",
        "\n",
        "#reading data from csv file\n",
        "df=pd.read_csv(input_file)\n",
        "#print (df)\n",
        "\n",
        "\n",
        "'''\n",
        "# iterate through each row and select \n",
        "# 'Name' and 'Stream' column respectively.\n",
        "for ind in df.index:\n",
        "  if(Sub_string_to_match in df[Column_name][ind]):\n",
        "     print(df['Roll no'][ind], df[Column_name][ind])\n",
        "'''\n",
        "# iterate through each row and select \n",
        "# 0th and 1st index column respectively.\n",
        "for i in range(len(df)) :\n",
        "  if(Sub_string_to_match in df.iloc[i, colum_location]):\n",
        "    print(df.iloc[i, 0], df.iloc[i, 1])"
      ],
      "execution_count": 6,
      "outputs": [
        {
          "output_type": "stream",
          "name": "stdout",
          "text": [
            "1002 Goa\n",
            "1005 Tiwadi Goa\n"
          ]
        }
      ]
    }
  ]
}